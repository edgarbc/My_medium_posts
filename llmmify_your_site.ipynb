{
  "cells": [
    {
      "cell_type": "markdown",
      "metadata": {
        "colab_type": "text",
        "id": "view-in-github"
      },
      "source": [
        "<a href=\"https://colab.research.google.com/github/edgarbc/My_medium_posts/blob/main/llmmify_your_site.ipynb\" target=\"_parent\"><img src=\"https://colab.research.google.com/assets/colab-badge.svg\" alt=\"Open In Colab\"/></a>"
      ]
    },
    {
      "cell_type": "markdown",
      "metadata": {
        "id": "ExNqY2JSwoI1"
      },
      "source": [
        "# LLMify your site\n",
        "\n",
        "by Edgar Bermudez\n",
        "\n",
        "August, 2025.\n",
        "\n",
        "--\n",
        "\n",
        "Simple demo to transfo knowledge resources (like websites, PDFs or other documents) into structured, machine-readable data that LLMs can actually learn from.\n",
        "\n",
        "This demo is part of a blog post about this idea inspired by Karpathy's post about transforming knowledge for LLMs (https://x.com/karpathy/status/1961128638725923119) and Jeremy Howard's llms.txt idea (https://www.answer.ai/posts/2024-09-03-llmstxt.html).\n",
        "\n"
      ]
    },
    {
      "cell_type": "markdown",
      "metadata": {
        "id": "vpLIE7kExuna"
      },
      "source": [
        "## Setup imports and install dependencies\n",
        "\n",
        "In this example I am using my personal website so I can extract info freely but you can adapt it to something you find more useful."
      ]
    },
    {
      "cell_type": "code",
      "execution_count": null,
      "metadata": {
        "id": "TF8Cfr8ZuaqL"
      },
      "outputs": [
        {
          "ename": "",
          "evalue": "",
          "output_type": "error",
          "traceback": [
            "\u001b[1;31mRunning cells with 'Python 3.8.10' requires the ipykernel package.\n",
            "\u001b[1;31m<a href='command:jupyter.createPythonEnvAndSelectController'>Create a Python Environment</a> with the required packages."
          ]
        }
      ],
      "source": [
        "# === 0) Setup ===\n",
        "!pip -q install trafilatura markdownify tldextract bs4 html5lib lxml \\\n",
        "                 sentence-transformers faiss-cpu rank_bm25 tqdm rich fastapi uvicorn==0.30.6 nest_asyncio\n",
        "\n",
        "import os, re, json, time, hashlib, urllib.parse\n",
        "from urllib.parse import urljoin\n",
        "from collections import deque\n",
        "from datetime import datetime\n",
        "from tqdm.auto import tqdm\n",
        "from rich import print as rprint\n",
        "\n",
        "import requests, tldextract\n",
        "from bs4 import BeautifulSoup\n",
        "import trafilatura\n",
        "from markdownify import markdownify as html2md\n",
        "\n",
        "import numpy as np\n",
        "from sentence_transformers import SentenceTransformer, CrossEncoder\n",
        "import faiss\n",
        "\n",
        "# ---- EDIT THIS ----\n",
        "START_URL = \"https://edgarbermudez.org/\"   # your site root\n",
        "MAX_PAGES   = 200\n",
        "CRAWL_DEPTH = 3\n",
        "TIMEOUT     = 15\n",
        "USER_AGENT  = \"LLMifyFAISS/0.2 (+demo)\"\n",
        "SAVE_DIR    = \"/content/llmify_faiss\"\n",
        "os.makedirs(SAVE_DIR, exist_ok=True)\n",
        "\n",
        "session = requests.Session()\n",
        "session.headers.update({\"User-Agent\": USER_AGENT})\n"
      ]
    },
    {
      "cell_type": "markdown",
      "metadata": {
        "id": "E-5m4n7CyAg3"
      },
      "source": [
        "## Website crawling\n",
        "\n",
        "The idea is to extract information from the resource. You can adapt this into something that makes sense depending on the knowledge source."
      ]
    },
    {
      "cell_type": "code",
      "execution_count": null,
      "metadata": {
        "colab": {
          "base_uri": "https://localhost:8080/",
          "height": 89
        },
        "id": "rgNwmAT5ulXn",
        "outputId": "50934b01-6767-46f0-a2a0-1c8cb1ae458b"
      },
      "outputs": [
        {
          "name": "stderr",
          "output_type": "stream",
          "text": [
            "/tmp/ipython-input-2799216048.py:4: DeprecationWarning: The 'registered_domain' property is deprecated and will be removed in the next major version. Use 'top_domain_under_public_suffix' instead, which has the same behavior but a more accurate name.\n",
            "  return ed.registered_domain == eb.registered_domain\n"
          ]
        },
        {
          "data": {
            "text/html": [
              "<pre style=\"white-space:pre;overflow-x:auto;line-height:normal;font-family:Menlo,'DejaVu Sans Mono',consolas,'Courier New',monospace\"><span style=\"color: #008000; text-decoration-color: #008000; font-weight: bold\">Crawled </span><span style=\"color: #008000; text-decoration-color: #008000; font-weight: bold\">8</span><span style=\"color: #008000; text-decoration-color: #008000; font-weight: bold\"> pages</span>\n",
              "</pre>\n"
            ],
            "text/plain": [
              "\u001b[1;32mCrawled \u001b[0m\u001b[1;32m8\u001b[0m\u001b[1;32m pages\u001b[0m\n"
            ]
          },
          "metadata": {},
          "output_type": "display_data"
        }
      ],
      "source": [
        "# === 1) Crawl (sitemap first, BFS fallback) ===\n",
        "def same_domain(u, base):\n",
        "    ed = tldextract.extract(u); eb = tldextract.extract(base)\n",
        "    return ed.registered_domain == eb.registered_domain\n",
        "\n",
        "def get(url):\n",
        "    try:\n",
        "        r = session.get(url, timeout=TIMEOUT, allow_redirects=True)\n",
        "        if r.status_code == 200: return r\n",
        "    except Exception: pass\n",
        "    return None\n",
        "\n",
        "def discover_from_sitemap(root):\n",
        "    sm = urllib.parse.urljoin(root, \"/sitemap.xml\")\n",
        "    try:\n",
        "        r = session.get(sm, timeout=TIMEOUT)\n",
        "        if r.status_code == 200 and \"xml\" in r.headers.get(\"Content-Type\",\"\"):\n",
        "            soup = BeautifulSoup(r.text, \"xml\")\n",
        "            return [loc.text.strip() for loc in soup.find_all(\"loc\") if same_domain(loc.text.strip(), root)]\n",
        "    except Exception: pass\n",
        "    return []\n",
        "\n",
        "def crawl(root, max_pages=MAX_PAGES, depth=CRAWL_DEPTH):\n",
        "    seen, out = set(), []\n",
        "    seeds = discover_from_sitemap(root) or [root]\n",
        "    dq = deque([(u, 0) for u in seeds if same_domain(u, root)])\n",
        "    while dq and len(out) < max_pages:\n",
        "        url, d = dq.popleft()\n",
        "        if url in seen or d > depth: continue\n",
        "        seen.add(url)\n",
        "        resp = get(url)\n",
        "        if not resp: continue\n",
        "        ct = resp.headers.get(\"Content-Type\",\"\")\n",
        "        if \"text/html\" not in ct: continue\n",
        "        out.append((url, resp.text))\n",
        "        if d < depth:\n",
        "            soup = BeautifulSoup(resp.text, \"html5lib\")\n",
        "            for a in soup.find_all(\"a\", href=True):\n",
        "                nxt = urljoin(url, a[\"href\"])\n",
        "                if nxt.startswith((\"mailto:\", \"tel:\")): continue\n",
        "                if same_domain(nxt, root): dq.append((nxt, d+1))\n",
        "    return out\n",
        "\n",
        "pages = crawl(START_URL)\n",
        "rprint(f\"[bold green]Crawled {len(pages)} pages[/bold green]\")\n"
      ]
    },
    {
      "cell_type": "markdown",
      "metadata": {
        "id": "Fv1YOBOtyRrZ"
      },
      "source": [
        "## Knowledge extraction and formatting\n",
        "\n",
        "The idea is to consume the information from the website it and format it into something that is easy to process by LLMs, markdown."
      ]
    },
    {
      "cell_type": "code",
      "execution_count": null,
      "metadata": {
        "colab": {
          "base_uri": "https://localhost:8080/",
          "height": 66,
          "referenced_widgets": [
            "25d82f0577db4dc6bd61b9cade3ce059",
            "75dc319b71f34b9e8a0f1786521918c5",
            "ffc6d0e6e7294802a79e975f961fcbf3",
            "5abcd48939f148ccbf27d5d54487bdb2",
            "44ed80bb0a8b4203a6fcfdf3d558fa14",
            "732844e86b72427b8becba73fb253cc3",
            "3c39eefe99064322b47cd5cf254e7b47",
            "ca02a88f20bf4e3c899777907327aded",
            "72e672f8ef024fd89056f1994bb99734",
            "de57c384e9ad4835b3c1d1ece9ab5424",
            "a3facf3cb6164540a42d7741b6bc56b7"
          ]
        },
        "id": "yjcC-cHPunFq",
        "outputId": "05d30c2f-99a7-435c-8ff3-d026335dc7ff"
      },
      "outputs": [
        {
          "data": {
            "application/vnd.jupyter.widget-view+json": {
              "model_id": "25d82f0577db4dc6bd61b9cade3ce059",
              "version_major": 2,
              "version_minor": 0
            },
            "text/plain": [
              "Extracting:   0%|          | 0/8 [00:00<?, ?it/s]"
            ]
          },
          "metadata": {},
          "output_type": "display_data"
        },
        {
          "data": {
            "text/html": [
              "<pre style=\"white-space:pre;overflow-x:auto;line-height:normal;font-family:Menlo,'DejaVu Sans Mono',consolas,'Courier New',monospace\"><span style=\"color: #008080; text-decoration-color: #008080; font-weight: bold\">Saved </span><span style=\"color: #008080; text-decoration-color: #008080; font-weight: bold\">48</span><span style=\"color: #008080; text-decoration-color: #008080; font-weight: bold\"> chunks</span>\n",
              "</pre>\n"
            ],
            "text/plain": [
              "\u001b[1;36mSaved \u001b[0m\u001b[1;36m48\u001b[0m\u001b[1;36m chunks\u001b[0m\n"
            ]
          },
          "metadata": {},
          "output_type": "display_data"
        }
      ],
      "source": [
        "# === 2) Extract main content → Markdown + metadata ===\n",
        "def extract_main_html(html):\n",
        "    soup = BeautifulSoup(html, \"html5lib\")\n",
        "    main = soup.find(\"main\") or soup.find(\"article\") or soup.body\n",
        "    return str(main or soup)\n",
        "\n",
        "def html_to_markdown(html):\n",
        "    md = html2md(html, heading_style=\"ATX\", strip=[\"script\",\"style\"])\n",
        "    return re.sub(r\"\\n{3,}\", \"\\n\\n\", md).strip()\n",
        "\n",
        "def extract_title_date(html):\n",
        "    soup = BeautifulSoup(html, \"html5lib\")\n",
        "    title = (soup.title.text.strip() if soup.title else \"\") or \"\"\n",
        "    h1 = soup.find(\"h1\")\n",
        "    if h1 and len(h1.text.strip()) > 5: title = h1.text.strip()\n",
        "    date = \"\"\n",
        "    for sel in [(\"meta\", {\"property\":\"article:published_time\"}),\n",
        "                (\"meta\", {\"name\":\"date\"}), (\"time\", {}),\n",
        "                (\"meta\", {\"property\":\"og:updated_time\"}),\n",
        "                (\"meta\", {\"name\":\"pubdate\"})]:\n",
        "        tag = soup.find(*sel)\n",
        "        if tag:\n",
        "            date = tag.get(\"content\") or tag.get(\"datetime\") or tag.text\n",
        "            if date: break\n",
        "    return title[:200], date\n",
        "\n",
        "def chunk_markdown(md, max_chars=1800, overlap=150):\n",
        "    paras = re.split(r\"\\n\\s*\\n\", md)\n",
        "    chunks, buf = [], \"\"\n",
        "    for p in paras:\n",
        "        if len(buf) + len(p) + 2 <= max_chars:\n",
        "            buf += ((\"\\n\\n\" if buf else \"\") + p)\n",
        "        else:\n",
        "            if buf: chunks.append(buf.strip())\n",
        "            buf = p\n",
        "    if buf: chunks.append(buf.strip())\n",
        "    if overlap and len(chunks) > 1:\n",
        "        out = []\n",
        "        for i, c in enumerate(chunks):\n",
        "            if i == 0: out.append(c); continue\n",
        "            prev = chunks[i-1]\n",
        "            out.append((prev[-overlap:] + \"\\n\\n\" + c).strip())\n",
        "        chunks = out\n",
        "    return chunks\n",
        "\n",
        "def page_id(url): return hashlib.md5(url.encode()).hexdigest()[:12]\n",
        "\n",
        "records = []\n",
        "for url, html in tqdm(pages, desc=\"Extracting\"):\n",
        "    main_html = extract_main_html(html)\n",
        "    title, published_at = extract_title_date(html)\n",
        "    md = html_to_markdown(main_html)\n",
        "    if len(md) < 200: continue\n",
        "    chunks = chunk_markdown(md)\n",
        "    for i, ch in enumerate(chunks):\n",
        "        records.append({\n",
        "            \"doc_id\": page_id(url),\n",
        "            \"url\": url,\n",
        "            \"title\": title or url,\n",
        "            \"published_at\": published_at,\n",
        "            \"chunk_id\": i,\n",
        "            \"chunk_text\": ch\n",
        "        })\n",
        "\n",
        "os.makedirs(SAVE_DIR, exist_ok=True)\n",
        "with open(os.path.join(SAVE_DIR, \"chunks.jsonl\"), \"w\") as f:\n",
        "    for r in records: f.write(json.dumps(r, ensure_ascii=False) + \"\\n\")\n",
        "rprint(f\"[bold cyan]Saved {len(records)} chunks[/bold cyan]\")\n"
      ]
    },
    {
      "cell_type": "markdown",
      "metadata": {
        "id": "mTd1-A82yhb7"
      },
      "source": [
        "## Knowledge embedding\n",
        "\n",
        "Now we want to make the extracted knowledge easy to navigate and find."
      ]
    },
    {
      "cell_type": "code",
      "execution_count": null,
      "metadata": {
        "colab": {
          "base_uri": "https://localhost:8080/",
          "height": 66,
          "referenced_widgets": [
            "e88171e73681451d9f2d728c7f656c64",
            "d76d6d2599b044508d2ab3f433b0bcf8",
            "4b913b368c5843ef83a4249f871542e3",
            "208119a86bf2438ebef2e2d139723ce1",
            "3dfd79a957224f3b861e1eee76fc95c4",
            "e96ed2633ca54384b6dc58f899851b6d",
            "5cae72440dea46bfb861d4490a9a1e28",
            "1a438a935b414423be05c2bda57f5a23",
            "256b8d5ec0b544a7ba1b7768ad6d4af5",
            "b9814342bf1c419d997d26725d252923",
            "28590f23d0714b66adf6824f28559b03"
          ]
        },
        "id": "EwZy9GgSurJH",
        "outputId": "c1126c4e-9e4b-481e-ea2f-14357c14fdf6"
      },
      "outputs": [
        {
          "data": {
            "application/vnd.jupyter.widget-view+json": {
              "model_id": "e88171e73681451d9f2d728c7f656c64",
              "version_major": 2,
              "version_minor": 0
            },
            "text/plain": [
              "Batches:   0%|          | 0/1 [00:00<?, ?it/s]"
            ]
          },
          "metadata": {},
          "output_type": "display_data"
        },
        {
          "data": {
            "text/html": [
              "<pre style=\"white-space:pre;overflow-x:auto;line-height:normal;font-family:Menlo,'DejaVu Sans Mono',consolas,'Courier New',monospace\"><span style=\"color: #008080; text-decoration-color: #008080; font-weight: bold\">FAISS index + metadata saved</span>\n",
              "</pre>\n"
            ],
            "text/plain": [
              "\u001b[1;36mFAISS index + metadata saved\u001b[0m\n"
            ]
          },
          "metadata": {},
          "output_type": "display_data"
        }
      ],
      "source": [
        "# === 3) Embeddings + FAISS (cosine) ===\n",
        "# Normalize to use inner-product index as cosine similarity\n",
        "embed_model = SentenceTransformer(\"sentence-transformers/all-MiniLM-L6-v2\")\n",
        "texts = [r[\"chunk_text\"] for r in records]\n",
        "embs = embed_model.encode(texts, batch_size=64, show_progress_bar=True, normalize_embeddings=True).astype(\"float32\")\n",
        "\n",
        "index = faiss.IndexFlatIP(embs.shape[1])  # inner-product == cosine on normalized vectors\n",
        "index.add(embs)\n",
        "\n",
        "faiss.write_index(index, os.path.join(SAVE_DIR, \"index.faiss\"))\n",
        "with open(os.path.join(SAVE_DIR, \"metadata.json\"), \"w\") as f: json.dump(records, f)\n",
        "rprint(\"[bold cyan]FAISS index + metadata saved[/bold cyan]\")\n"
      ]
    },
    {
      "cell_type": "markdown",
      "metadata": {
        "id": "kiz3Elr7y3vv"
      },
      "source": [
        "## Knowledge search\n",
        "\n",
        "Now with the extracted knowledge in searchable space, we can query it and display the found information."
      ]
    },
    {
      "cell_type": "code",
      "execution_count": null,
      "metadata": {
        "colab": {
          "base_uri": "https://localhost:8080/",
          "height": 1000
        },
        "id": "y01UlpcPvMrF",
        "outputId": "8aa832da-2686-4f7f-c053-2f6f697b15db"
      },
      "outputs": [
        {
          "data": {
            "text/html": [
              "<pre style=\"white-space:pre;overflow-x:auto;line-height:normal;font-family:Menlo,'DejaVu Sans Mono',consolas,'Courier New',monospace\"><span style=\"color: #808000; text-decoration-color: #808000; font-weight: bold\">Top hits for:</span> What AI services/products does the author offer and recent projects?\n",
              "</pre>\n"
            ],
            "text/plain": [
              "\u001b[1;33mTop hits for:\u001b[0m What AI services/products does the author offer and recent projects?\n"
            ]
          },
          "metadata": {},
          "output_type": "display_data"
        },
        {
          "data": {
            "text/html": [
              "<pre style=\"white-space:pre;overflow-x:auto;line-height:normal;font-family:Menlo,'DejaVu Sans Mono',consolas,'Courier New',monospace\">• <span style=\"font-weight: bold\">[</span>Edgar Bermudez-Contreras<span style=\"font-weight: bold\">](</span><span style=\"color: #0000ff; text-decoration-color: #0000ff; text-decoration: underline\">https://www.edgarbermudez.org/#projects)</span>\n",
              "  ---\n",
              "Edgar Bermudez\n",
              "\n",
              "<span style=\"font-weight: bold\">[</span>!<span style=\"font-weight: bold\">[</span>LinkedIn icon<span style=\"font-weight: bold\">](</span>images/linkedin_logo.webp<span style=\"font-weight: bold\">)](</span><span style=\"color: #0000ff; text-decoration-color: #0000ff; text-decoration: underline\">https://www.linkedin.com/in/edgarbermudezcontreras/)</span>\n",
              "<span style=\"font-weight: bold\">[</span>!<span style=\"font-weight: bold\">[</span>Google scholar profile<span style=\"font-weight: bold\">](</span>images/Gscholar.png<span style=\"font-weight: bold\">)](</span><span style=\"color: #0000ff; text-decoration-color: #0000ff; text-decoration: underline\">https://scholar.google.ca/citations?user=P-7CnkMAAAAJ&amp;hl=en)</span>\n",
              "<span style=\"font-weight: bold\">[</span>!<span style=\"font-weight: bold\">(</span>images/medium_logo.png<span style=\"font-weight: bold\">)](</span><span style=\"color: #0000ff; text-decoration-color: #0000ff; text-decoration: underline\">https://medium.com/@viajesubmarino)</span>\n",
              "<span style=\"font-weight: bold\">[</span>!<span style=\"font-weight: bold\">(</span>images/twitter-logo.png<span style=\"font-weight: bold\">)](</span><span style=\"color: #0000ff; text-decoration-color: #0000ff; text-decoration: underline\">https://twitter.com/viajesubmarino)</span>\n",
              "\n",
              "Contact  \n",
              "!<span style=\"font-weight: bold\">[](</span>images/em.png<span style=\"font-weight: bold\">)</span>\n",
              "\n",
              "* <span style=\"font-weight: bold\">[</span>Home<span style=\"font-weight: bold\">](</span><span style=\"color: #0000ff; text-decoration-color: #0000ff; text-decoration: underline\">https://www.edgarbermudez.org/)</span>\n",
              "* <span style=\"font-weight: bold\">[</span>About me<span style=\"font-weight: bold\">](</span>#research<span style=\"font-weight: bold\">)</span>\n",
              "* <span style=\"font-weight: bold\">[</span>Publications<span style=\"font-weight: bold\">](</span>#publications<span style=\"font-weight: bold\">)</span>\n",
              "* <span style=\"font-weight: bold\">[</span>Projects<span style=\"font-weight: bold\">](</span>#projects<span style=\"font-weight: bold\">)</span>\n",
              "\n",
              "!<span style=\"font-weight: bold\">[](</span>images/profilesmallbw.jpg<span style=\"font-weight: bold\">)</span>  \n",
              "About me\n",
              "\n",
              "I am the Director of AI Development at <span style=\"font-weight: bold\">[</span>OraQ AI<span style=\"font-weight: bold\">](</span><span style=\"color: #0000ff; text-decoration-color: #0000ff; text-decoration: underline\">http://www.oraq.ai),</span> where I lead the strategic direction and \n",
              "development of AI-powered diagnostic,\n",
              "prognostic, and treatment recommendation systems for dentistry. With a PhD in Computer Science and Artificial \n",
              "Intelligence from the University of Sussex\n",
              "and over a decade of <span style=\"color: #808000; text-decoration-color: #808000\">...</span>\n",
              "</pre>\n"
            ],
            "text/plain": [
              "• \u001b[1m[\u001b[0mEdgar Bermudez-Contreras\u001b[1m]\u001b[0m\u001b[1m(\u001b[0m\u001b[4;94mhttps://www.edgarbermudez.org/#projects\u001b[0m\u001b[4;94m)\u001b[0m\n",
              "  ---\n",
              "Edgar Bermudez\n",
              "\n",
              "\u001b[1m[\u001b[0m!\u001b[1m[\u001b[0mLinkedIn icon\u001b[1m]\u001b[0m\u001b[1m(\u001b[0mimages/linkedin_logo.webp\u001b[1m)\u001b[0m\u001b[1m]\u001b[0m\u001b[1m(\u001b[0m\u001b[4;94mhttps://www.linkedin.com/in/edgarbermudezcontreras/\u001b[0m\u001b[4;94m)\u001b[0m\n",
              "\u001b[1m[\u001b[0m!\u001b[1m[\u001b[0mGoogle scholar profile\u001b[1m]\u001b[0m\u001b[1m(\u001b[0mimages/Gscholar.png\u001b[1m)\u001b[0m\u001b[1m]\u001b[0m\u001b[1m(\u001b[0m\u001b[4;94mhttps://scholar.google.ca/citations?\u001b[0m\u001b[4;94muser\u001b[0m\u001b[4;94m=\u001b[0m\u001b[4;94mP\u001b[0m\u001b[4;94m-7CnkMAAAAJ&\u001b[0m\u001b[4;94mhl\u001b[0m\u001b[4;94m=\u001b[0m\u001b[4;94men\u001b[0m\u001b[4;94m)\u001b[0m\n",
              "\u001b[1m[\u001b[0m!\u001b[1m(\u001b[0mimages/medium_logo.png\u001b[1m)\u001b[0m\u001b[1m]\u001b[0m\u001b[1m(\u001b[0m\u001b[4;94mhttps://medium.com/@viajesubmarino\u001b[0m\u001b[4;94m)\u001b[0m\n",
              "\u001b[1m[\u001b[0m!\u001b[1m(\u001b[0mimages/twitter-logo.png\u001b[1m)\u001b[0m\u001b[1m]\u001b[0m\u001b[1m(\u001b[0m\u001b[4;94mhttps://twitter.com/viajesubmarino\u001b[0m\u001b[4;94m)\u001b[0m\n",
              "\n",
              "Contact  \n",
              "!\u001b[1m[\u001b[0m\u001b[1m]\u001b[0m\u001b[1m(\u001b[0mimages/em.png\u001b[1m)\u001b[0m\n",
              "\n",
              "* \u001b[1m[\u001b[0mHome\u001b[1m]\u001b[0m\u001b[1m(\u001b[0m\u001b[4;94mhttps://www.edgarbermudez.org/\u001b[0m\u001b[4;94m)\u001b[0m\n",
              "* \u001b[1m[\u001b[0mAbout me\u001b[1m]\u001b[0m\u001b[1m(\u001b[0m#research\u001b[1m)\u001b[0m\n",
              "* \u001b[1m[\u001b[0mPublications\u001b[1m]\u001b[0m\u001b[1m(\u001b[0m#publications\u001b[1m)\u001b[0m\n",
              "* \u001b[1m[\u001b[0mProjects\u001b[1m]\u001b[0m\u001b[1m(\u001b[0m#projects\u001b[1m)\u001b[0m\n",
              "\n",
              "!\u001b[1m[\u001b[0m\u001b[1m]\u001b[0m\u001b[1m(\u001b[0mimages/profilesmallbw.jpg\u001b[1m)\u001b[0m  \n",
              "About me\n",
              "\n",
              "I am the Director of AI Development at \u001b[1m[\u001b[0mOraQ AI\u001b[1m]\u001b[0m\u001b[1m(\u001b[0m\u001b[4;94mhttp://www.oraq.ai\u001b[0m\u001b[4;94m)\u001b[0m\u001b[4;94m,\u001b[0m where I lead the strategic direction and \n",
              "development of AI-powered diagnostic,\n",
              "prognostic, and treatment recommendation systems for dentistry. With a PhD in Computer Science and Artificial \n",
              "Intelligence from the University of Sussex\n",
              "and over a decade of \u001b[33m...\u001b[0m\n"
            ]
          },
          "metadata": {},
          "output_type": "display_data"
        },
        {
          "data": {
            "text/html": [
              "<pre style=\"white-space:pre;overflow-x:auto;line-height:normal;font-family:Menlo,'DejaVu Sans Mono',consolas,'Courier New',monospace\">• <span style=\"font-weight: bold\">[</span>Edgar Bermudez-Contreras<span style=\"font-weight: bold\">](</span><span style=\"color: #0000ff; text-decoration-color: #0000ff; text-decoration: underline\">https://www.edgarbermudez.org/#publications)</span>\n",
              "  ---\n",
              "Edgar Bermudez\n",
              "\n",
              "<span style=\"font-weight: bold\">[</span>!<span style=\"font-weight: bold\">[</span>LinkedIn icon<span style=\"font-weight: bold\">](</span>images/linkedin_logo.webp<span style=\"font-weight: bold\">)](</span><span style=\"color: #0000ff; text-decoration-color: #0000ff; text-decoration: underline\">https://www.linkedin.com/in/edgarbermudezcontreras/)</span>\n",
              "<span style=\"font-weight: bold\">[</span>!<span style=\"font-weight: bold\">[</span>Google scholar profile<span style=\"font-weight: bold\">](</span>images/Gscholar.png<span style=\"font-weight: bold\">)](</span><span style=\"color: #0000ff; text-decoration-color: #0000ff; text-decoration: underline\">https://scholar.google.ca/citations?user=P-7CnkMAAAAJ&amp;hl=en)</span>\n",
              "<span style=\"font-weight: bold\">[</span>!<span style=\"font-weight: bold\">(</span>images/medium_logo.png<span style=\"font-weight: bold\">)](</span><span style=\"color: #0000ff; text-decoration-color: #0000ff; text-decoration: underline\">https://medium.com/@viajesubmarino)</span>\n",
              "<span style=\"font-weight: bold\">[</span>!<span style=\"font-weight: bold\">(</span>images/twitter-logo.png<span style=\"font-weight: bold\">)](</span><span style=\"color: #0000ff; text-decoration-color: #0000ff; text-decoration: underline\">https://twitter.com/viajesubmarino)</span>\n",
              "\n",
              "Contact  \n",
              "!<span style=\"font-weight: bold\">[](</span>images/em.png<span style=\"font-weight: bold\">)</span>\n",
              "\n",
              "* <span style=\"font-weight: bold\">[</span>Home<span style=\"font-weight: bold\">](</span><span style=\"color: #0000ff; text-decoration-color: #0000ff; text-decoration: underline\">https://www.edgarbermudez.org/)</span>\n",
              "* <span style=\"font-weight: bold\">[</span>About me<span style=\"font-weight: bold\">](</span>#research<span style=\"font-weight: bold\">)</span>\n",
              "* <span style=\"font-weight: bold\">[</span>Publications<span style=\"font-weight: bold\">](</span>#publications<span style=\"font-weight: bold\">)</span>\n",
              "* <span style=\"font-weight: bold\">[</span>Projects<span style=\"font-weight: bold\">](</span>#projects<span style=\"font-weight: bold\">)</span>\n",
              "\n",
              "!<span style=\"font-weight: bold\">[](</span>images/profilesmallbw.jpg<span style=\"font-weight: bold\">)</span>  \n",
              "About me\n",
              "\n",
              "I am the Director of AI Development at <span style=\"font-weight: bold\">[</span>OraQ AI<span style=\"font-weight: bold\">](</span><span style=\"color: #0000ff; text-decoration-color: #0000ff; text-decoration: underline\">http://www.oraq.ai),</span> where I lead the strategic direction and \n",
              "development of AI-powered diagnostic,\n",
              "prognostic, and treatment recommendation systems for dentistry. With a PhD in Computer Science and Artificial \n",
              "Intelligence from the University of Sussex\n",
              "and over a decade of <span style=\"color: #808000; text-decoration-color: #808000\">...</span>\n",
              "</pre>\n"
            ],
            "text/plain": [
              "• \u001b[1m[\u001b[0mEdgar Bermudez-Contreras\u001b[1m]\u001b[0m\u001b[1m(\u001b[0m\u001b[4;94mhttps://www.edgarbermudez.org/#publications\u001b[0m\u001b[4;94m)\u001b[0m\n",
              "  ---\n",
              "Edgar Bermudez\n",
              "\n",
              "\u001b[1m[\u001b[0m!\u001b[1m[\u001b[0mLinkedIn icon\u001b[1m]\u001b[0m\u001b[1m(\u001b[0mimages/linkedin_logo.webp\u001b[1m)\u001b[0m\u001b[1m]\u001b[0m\u001b[1m(\u001b[0m\u001b[4;94mhttps://www.linkedin.com/in/edgarbermudezcontreras/\u001b[0m\u001b[4;94m)\u001b[0m\n",
              "\u001b[1m[\u001b[0m!\u001b[1m[\u001b[0mGoogle scholar profile\u001b[1m]\u001b[0m\u001b[1m(\u001b[0mimages/Gscholar.png\u001b[1m)\u001b[0m\u001b[1m]\u001b[0m\u001b[1m(\u001b[0m\u001b[4;94mhttps://scholar.google.ca/citations?\u001b[0m\u001b[4;94muser\u001b[0m\u001b[4;94m=\u001b[0m\u001b[4;94mP\u001b[0m\u001b[4;94m-7CnkMAAAAJ&\u001b[0m\u001b[4;94mhl\u001b[0m\u001b[4;94m=\u001b[0m\u001b[4;94men\u001b[0m\u001b[4;94m)\u001b[0m\n",
              "\u001b[1m[\u001b[0m!\u001b[1m(\u001b[0mimages/medium_logo.png\u001b[1m)\u001b[0m\u001b[1m]\u001b[0m\u001b[1m(\u001b[0m\u001b[4;94mhttps://medium.com/@viajesubmarino\u001b[0m\u001b[4;94m)\u001b[0m\n",
              "\u001b[1m[\u001b[0m!\u001b[1m(\u001b[0mimages/twitter-logo.png\u001b[1m)\u001b[0m\u001b[1m]\u001b[0m\u001b[1m(\u001b[0m\u001b[4;94mhttps://twitter.com/viajesubmarino\u001b[0m\u001b[4;94m)\u001b[0m\n",
              "\n",
              "Contact  \n",
              "!\u001b[1m[\u001b[0m\u001b[1m]\u001b[0m\u001b[1m(\u001b[0mimages/em.png\u001b[1m)\u001b[0m\n",
              "\n",
              "* \u001b[1m[\u001b[0mHome\u001b[1m]\u001b[0m\u001b[1m(\u001b[0m\u001b[4;94mhttps://www.edgarbermudez.org/\u001b[0m\u001b[4;94m)\u001b[0m\n",
              "* \u001b[1m[\u001b[0mAbout me\u001b[1m]\u001b[0m\u001b[1m(\u001b[0m#research\u001b[1m)\u001b[0m\n",
              "* \u001b[1m[\u001b[0mPublications\u001b[1m]\u001b[0m\u001b[1m(\u001b[0m#publications\u001b[1m)\u001b[0m\n",
              "* \u001b[1m[\u001b[0mProjects\u001b[1m]\u001b[0m\u001b[1m(\u001b[0m#projects\u001b[1m)\u001b[0m\n",
              "\n",
              "!\u001b[1m[\u001b[0m\u001b[1m]\u001b[0m\u001b[1m(\u001b[0mimages/profilesmallbw.jpg\u001b[1m)\u001b[0m  \n",
              "About me\n",
              "\n",
              "I am the Director of AI Development at \u001b[1m[\u001b[0mOraQ AI\u001b[1m]\u001b[0m\u001b[1m(\u001b[0m\u001b[4;94mhttp://www.oraq.ai\u001b[0m\u001b[4;94m)\u001b[0m\u001b[4;94m,\u001b[0m where I lead the strategic direction and \n",
              "development of AI-powered diagnostic,\n",
              "prognostic, and treatment recommendation systems for dentistry. With a PhD in Computer Science and Artificial \n",
              "Intelligence from the University of Sussex\n",
              "and over a decade of \u001b[33m...\u001b[0m\n"
            ]
          },
          "metadata": {},
          "output_type": "display_data"
        },
        {
          "data": {
            "text/html": [
              "<pre style=\"white-space:pre;overflow-x:auto;line-height:normal;font-family:Menlo,'DejaVu Sans Mono',consolas,'Courier New',monospace\">• <span style=\"font-weight: bold\">[</span>Edgar Bermudez-Contreras<span style=\"font-weight: bold\">](</span><span style=\"color: #0000ff; text-decoration-color: #0000ff; text-decoration: underline\">https://www.edgarbermudez.org/#research)</span>\n",
              "  ---\n",
              "Edgar Bermudez\n",
              "\n",
              "<span style=\"font-weight: bold\">[</span>!<span style=\"font-weight: bold\">[</span>LinkedIn icon<span style=\"font-weight: bold\">](</span>images/linkedin_logo.webp<span style=\"font-weight: bold\">)](</span><span style=\"color: #0000ff; text-decoration-color: #0000ff; text-decoration: underline\">https://www.linkedin.com/in/edgarbermudezcontreras/)</span>\n",
              "<span style=\"font-weight: bold\">[</span>!<span style=\"font-weight: bold\">[</span>Google scholar profile<span style=\"font-weight: bold\">](</span>images/Gscholar.png<span style=\"font-weight: bold\">)](</span><span style=\"color: #0000ff; text-decoration-color: #0000ff; text-decoration: underline\">https://scholar.google.ca/citations?user=P-7CnkMAAAAJ&amp;hl=en)</span>\n",
              "<span style=\"font-weight: bold\">[</span>!<span style=\"font-weight: bold\">(</span>images/medium_logo.png<span style=\"font-weight: bold\">)](</span><span style=\"color: #0000ff; text-decoration-color: #0000ff; text-decoration: underline\">https://medium.com/@viajesubmarino)</span>\n",
              "<span style=\"font-weight: bold\">[</span>!<span style=\"font-weight: bold\">(</span>images/twitter-logo.png<span style=\"font-weight: bold\">)](</span><span style=\"color: #0000ff; text-decoration-color: #0000ff; text-decoration: underline\">https://twitter.com/viajesubmarino)</span>\n",
              "\n",
              "Contact  \n",
              "!<span style=\"font-weight: bold\">[](</span>images/em.png<span style=\"font-weight: bold\">)</span>\n",
              "\n",
              "* <span style=\"font-weight: bold\">[</span>Home<span style=\"font-weight: bold\">](</span><span style=\"color: #0000ff; text-decoration-color: #0000ff; text-decoration: underline\">https://www.edgarbermudez.org/)</span>\n",
              "* <span style=\"font-weight: bold\">[</span>About me<span style=\"font-weight: bold\">](</span>#research<span style=\"font-weight: bold\">)</span>\n",
              "* <span style=\"font-weight: bold\">[</span>Publications<span style=\"font-weight: bold\">](</span>#publications<span style=\"font-weight: bold\">)</span>\n",
              "* <span style=\"font-weight: bold\">[</span>Projects<span style=\"font-weight: bold\">](</span>#projects<span style=\"font-weight: bold\">)</span>\n",
              "\n",
              "!<span style=\"font-weight: bold\">[](</span>images/profilesmallbw.jpg<span style=\"font-weight: bold\">)</span>  \n",
              "About me\n",
              "\n",
              "I am the Director of AI Development at <span style=\"font-weight: bold\">[</span>OraQ AI<span style=\"font-weight: bold\">](</span><span style=\"color: #0000ff; text-decoration-color: #0000ff; text-decoration: underline\">http://www.oraq.ai),</span> where I lead the strategic direction and \n",
              "development of AI-powered diagnostic,\n",
              "prognostic, and treatment recommendation systems for dentistry. With a PhD in Computer Science and Artificial \n",
              "Intelligence from the University of Sussex\n",
              "and over a decade of <span style=\"color: #808000; text-decoration-color: #808000\">...</span>\n",
              "</pre>\n"
            ],
            "text/plain": [
              "• \u001b[1m[\u001b[0mEdgar Bermudez-Contreras\u001b[1m]\u001b[0m\u001b[1m(\u001b[0m\u001b[4;94mhttps://www.edgarbermudez.org/#research\u001b[0m\u001b[4;94m)\u001b[0m\n",
              "  ---\n",
              "Edgar Bermudez\n",
              "\n",
              "\u001b[1m[\u001b[0m!\u001b[1m[\u001b[0mLinkedIn icon\u001b[1m]\u001b[0m\u001b[1m(\u001b[0mimages/linkedin_logo.webp\u001b[1m)\u001b[0m\u001b[1m]\u001b[0m\u001b[1m(\u001b[0m\u001b[4;94mhttps://www.linkedin.com/in/edgarbermudezcontreras/\u001b[0m\u001b[4;94m)\u001b[0m\n",
              "\u001b[1m[\u001b[0m!\u001b[1m[\u001b[0mGoogle scholar profile\u001b[1m]\u001b[0m\u001b[1m(\u001b[0mimages/Gscholar.png\u001b[1m)\u001b[0m\u001b[1m]\u001b[0m\u001b[1m(\u001b[0m\u001b[4;94mhttps://scholar.google.ca/citations?\u001b[0m\u001b[4;94muser\u001b[0m\u001b[4;94m=\u001b[0m\u001b[4;94mP\u001b[0m\u001b[4;94m-7CnkMAAAAJ&\u001b[0m\u001b[4;94mhl\u001b[0m\u001b[4;94m=\u001b[0m\u001b[4;94men\u001b[0m\u001b[4;94m)\u001b[0m\n",
              "\u001b[1m[\u001b[0m!\u001b[1m(\u001b[0mimages/medium_logo.png\u001b[1m)\u001b[0m\u001b[1m]\u001b[0m\u001b[1m(\u001b[0m\u001b[4;94mhttps://medium.com/@viajesubmarino\u001b[0m\u001b[4;94m)\u001b[0m\n",
              "\u001b[1m[\u001b[0m!\u001b[1m(\u001b[0mimages/twitter-logo.png\u001b[1m)\u001b[0m\u001b[1m]\u001b[0m\u001b[1m(\u001b[0m\u001b[4;94mhttps://twitter.com/viajesubmarino\u001b[0m\u001b[4;94m)\u001b[0m\n",
              "\n",
              "Contact  \n",
              "!\u001b[1m[\u001b[0m\u001b[1m]\u001b[0m\u001b[1m(\u001b[0mimages/em.png\u001b[1m)\u001b[0m\n",
              "\n",
              "* \u001b[1m[\u001b[0mHome\u001b[1m]\u001b[0m\u001b[1m(\u001b[0m\u001b[4;94mhttps://www.edgarbermudez.org/\u001b[0m\u001b[4;94m)\u001b[0m\n",
              "* \u001b[1m[\u001b[0mAbout me\u001b[1m]\u001b[0m\u001b[1m(\u001b[0m#research\u001b[1m)\u001b[0m\n",
              "* \u001b[1m[\u001b[0mPublications\u001b[1m]\u001b[0m\u001b[1m(\u001b[0m#publications\u001b[1m)\u001b[0m\n",
              "* \u001b[1m[\u001b[0mProjects\u001b[1m]\u001b[0m\u001b[1m(\u001b[0m#projects\u001b[1m)\u001b[0m\n",
              "\n",
              "!\u001b[1m[\u001b[0m\u001b[1m]\u001b[0m\u001b[1m(\u001b[0mimages/profilesmallbw.jpg\u001b[1m)\u001b[0m  \n",
              "About me\n",
              "\n",
              "I am the Director of AI Development at \u001b[1m[\u001b[0mOraQ AI\u001b[1m]\u001b[0m\u001b[1m(\u001b[0m\u001b[4;94mhttp://www.oraq.ai\u001b[0m\u001b[4;94m)\u001b[0m\u001b[4;94m,\u001b[0m where I lead the strategic direction and \n",
              "development of AI-powered diagnostic,\n",
              "prognostic, and treatment recommendation systems for dentistry. With a PhD in Computer Science and Artificial \n",
              "Intelligence from the University of Sussex\n",
              "and over a decade of \u001b[33m...\u001b[0m\n"
            ]
          },
          "metadata": {},
          "output_type": "display_data"
        },
        {
          "data": {
            "text/html": [
              "<pre style=\"white-space:pre;overflow-x:auto;line-height:normal;font-family:Menlo,'DejaVu Sans Mono',consolas,'Courier New',monospace\">• <span style=\"font-weight: bold\">[</span>Edgar Bermudez-Contreras<span style=\"font-weight: bold\">](</span><span style=\"color: #0000ff; text-decoration-color: #0000ff; text-decoration: underline\">https://edgarbermudez.org/#projects)</span>\n",
              "  ---\n",
              "Edgar Bermudez\n",
              "\n",
              "<span style=\"font-weight: bold\">[</span>!<span style=\"font-weight: bold\">[</span>LinkedIn icon<span style=\"font-weight: bold\">](</span>images/linkedin_logo.webp<span style=\"font-weight: bold\">)](</span><span style=\"color: #0000ff; text-decoration-color: #0000ff; text-decoration: underline\">https://www.linkedin.com/in/edgarbermudezcontreras/)</span>\n",
              "<span style=\"font-weight: bold\">[</span>!<span style=\"font-weight: bold\">[</span>Google scholar profile<span style=\"font-weight: bold\">](</span>images/Gscholar.png<span style=\"font-weight: bold\">)](</span><span style=\"color: #0000ff; text-decoration-color: #0000ff; text-decoration: underline\">https://scholar.google.ca/citations?user=P-7CnkMAAAAJ&amp;hl=en)</span>\n",
              "<span style=\"font-weight: bold\">[</span>!<span style=\"font-weight: bold\">(</span>images/medium_logo.png<span style=\"font-weight: bold\">)](</span><span style=\"color: #0000ff; text-decoration-color: #0000ff; text-decoration: underline\">https://medium.com/@viajesubmarino)</span>\n",
              "<span style=\"font-weight: bold\">[</span>!<span style=\"font-weight: bold\">(</span>images/twitter-logo.png<span style=\"font-weight: bold\">)](</span><span style=\"color: #0000ff; text-decoration-color: #0000ff; text-decoration: underline\">https://twitter.com/viajesubmarino)</span>\n",
              "\n",
              "Contact  \n",
              "!<span style=\"font-weight: bold\">[](</span>images/em.png<span style=\"font-weight: bold\">)</span>\n",
              "\n",
              "* <span style=\"font-weight: bold\">[</span>Home<span style=\"font-weight: bold\">](</span><span style=\"color: #0000ff; text-decoration-color: #0000ff; text-decoration: underline\">https://www.edgarbermudez.org/)</span>\n",
              "* <span style=\"font-weight: bold\">[</span>About me<span style=\"font-weight: bold\">](</span>#research<span style=\"font-weight: bold\">)</span>\n",
              "* <span style=\"font-weight: bold\">[</span>Publications<span style=\"font-weight: bold\">](</span>#publications<span style=\"font-weight: bold\">)</span>\n",
              "* <span style=\"font-weight: bold\">[</span>Projects<span style=\"font-weight: bold\">](</span>#projects<span style=\"font-weight: bold\">)</span>\n",
              "\n",
              "!<span style=\"font-weight: bold\">[](</span>images/profilesmallbw.jpg<span style=\"font-weight: bold\">)</span>  \n",
              "About me\n",
              "\n",
              "I am the Director of AI Development at <span style=\"font-weight: bold\">[</span>OraQ AI<span style=\"font-weight: bold\">](</span><span style=\"color: #0000ff; text-decoration-color: #0000ff; text-decoration: underline\">http://www.oraq.ai),</span> where I lead the strategic direction and \n",
              "development of AI-powered diagnostic,\n",
              "prognostic, and treatment recommendation systems for dentistry. With a PhD in Computer Science and Artificial \n",
              "Intelligence from the University of Sussex\n",
              "and over a decade of <span style=\"color: #808000; text-decoration-color: #808000\">...</span>\n",
              "</pre>\n"
            ],
            "text/plain": [
              "• \u001b[1m[\u001b[0mEdgar Bermudez-Contreras\u001b[1m]\u001b[0m\u001b[1m(\u001b[0m\u001b[4;94mhttps://edgarbermudez.org/#projects\u001b[0m\u001b[4;94m)\u001b[0m\n",
              "  ---\n",
              "Edgar Bermudez\n",
              "\n",
              "\u001b[1m[\u001b[0m!\u001b[1m[\u001b[0mLinkedIn icon\u001b[1m]\u001b[0m\u001b[1m(\u001b[0mimages/linkedin_logo.webp\u001b[1m)\u001b[0m\u001b[1m]\u001b[0m\u001b[1m(\u001b[0m\u001b[4;94mhttps://www.linkedin.com/in/edgarbermudezcontreras/\u001b[0m\u001b[4;94m)\u001b[0m\n",
              "\u001b[1m[\u001b[0m!\u001b[1m[\u001b[0mGoogle scholar profile\u001b[1m]\u001b[0m\u001b[1m(\u001b[0mimages/Gscholar.png\u001b[1m)\u001b[0m\u001b[1m]\u001b[0m\u001b[1m(\u001b[0m\u001b[4;94mhttps://scholar.google.ca/citations?\u001b[0m\u001b[4;94muser\u001b[0m\u001b[4;94m=\u001b[0m\u001b[4;94mP\u001b[0m\u001b[4;94m-7CnkMAAAAJ&\u001b[0m\u001b[4;94mhl\u001b[0m\u001b[4;94m=\u001b[0m\u001b[4;94men\u001b[0m\u001b[4;94m)\u001b[0m\n",
              "\u001b[1m[\u001b[0m!\u001b[1m(\u001b[0mimages/medium_logo.png\u001b[1m)\u001b[0m\u001b[1m]\u001b[0m\u001b[1m(\u001b[0m\u001b[4;94mhttps://medium.com/@viajesubmarino\u001b[0m\u001b[4;94m)\u001b[0m\n",
              "\u001b[1m[\u001b[0m!\u001b[1m(\u001b[0mimages/twitter-logo.png\u001b[1m)\u001b[0m\u001b[1m]\u001b[0m\u001b[1m(\u001b[0m\u001b[4;94mhttps://twitter.com/viajesubmarino\u001b[0m\u001b[4;94m)\u001b[0m\n",
              "\n",
              "Contact  \n",
              "!\u001b[1m[\u001b[0m\u001b[1m]\u001b[0m\u001b[1m(\u001b[0mimages/em.png\u001b[1m)\u001b[0m\n",
              "\n",
              "* \u001b[1m[\u001b[0mHome\u001b[1m]\u001b[0m\u001b[1m(\u001b[0m\u001b[4;94mhttps://www.edgarbermudez.org/\u001b[0m\u001b[4;94m)\u001b[0m\n",
              "* \u001b[1m[\u001b[0mAbout me\u001b[1m]\u001b[0m\u001b[1m(\u001b[0m#research\u001b[1m)\u001b[0m\n",
              "* \u001b[1m[\u001b[0mPublications\u001b[1m]\u001b[0m\u001b[1m(\u001b[0m#publications\u001b[1m)\u001b[0m\n",
              "* \u001b[1m[\u001b[0mProjects\u001b[1m]\u001b[0m\u001b[1m(\u001b[0m#projects\u001b[1m)\u001b[0m\n",
              "\n",
              "!\u001b[1m[\u001b[0m\u001b[1m]\u001b[0m\u001b[1m(\u001b[0mimages/profilesmallbw.jpg\u001b[1m)\u001b[0m  \n",
              "About me\n",
              "\n",
              "I am the Director of AI Development at \u001b[1m[\u001b[0mOraQ AI\u001b[1m]\u001b[0m\u001b[1m(\u001b[0m\u001b[4;94mhttp://www.oraq.ai\u001b[0m\u001b[4;94m)\u001b[0m\u001b[4;94m,\u001b[0m where I lead the strategic direction and \n",
              "development of AI-powered diagnostic,\n",
              "prognostic, and treatment recommendation systems for dentistry. With a PhD in Computer Science and Artificial \n",
              "Intelligence from the University of Sussex\n",
              "and over a decade of \u001b[33m...\u001b[0m\n"
            ]
          },
          "metadata": {},
          "output_type": "display_data"
        },
        {
          "data": {
            "text/html": [
              "<pre style=\"white-space:pre;overflow-x:auto;line-height:normal;font-family:Menlo,'DejaVu Sans Mono',consolas,'Courier New',monospace\">• <span style=\"font-weight: bold\">[</span>Edgar Bermudez-Contreras<span style=\"font-weight: bold\">](</span><span style=\"color: #0000ff; text-decoration-color: #0000ff; text-decoration: underline\">https://edgarbermudez.org/#publications)</span>\n",
              "  ---\n",
              "Edgar Bermudez\n",
              "\n",
              "<span style=\"font-weight: bold\">[</span>!<span style=\"font-weight: bold\">[</span>LinkedIn icon<span style=\"font-weight: bold\">](</span>images/linkedin_logo.webp<span style=\"font-weight: bold\">)](</span><span style=\"color: #0000ff; text-decoration-color: #0000ff; text-decoration: underline\">https://www.linkedin.com/in/edgarbermudezcontreras/)</span>\n",
              "<span style=\"font-weight: bold\">[</span>!<span style=\"font-weight: bold\">[</span>Google scholar profile<span style=\"font-weight: bold\">](</span>images/Gscholar.png<span style=\"font-weight: bold\">)](</span><span style=\"color: #0000ff; text-decoration-color: #0000ff; text-decoration: underline\">https://scholar.google.ca/citations?user=P-7CnkMAAAAJ&amp;hl=en)</span>\n",
              "<span style=\"font-weight: bold\">[</span>!<span style=\"font-weight: bold\">(</span>images/medium_logo.png<span style=\"font-weight: bold\">)](</span><span style=\"color: #0000ff; text-decoration-color: #0000ff; text-decoration: underline\">https://medium.com/@viajesubmarino)</span>\n",
              "<span style=\"font-weight: bold\">[</span>!<span style=\"font-weight: bold\">(</span>images/twitter-logo.png<span style=\"font-weight: bold\">)](</span><span style=\"color: #0000ff; text-decoration-color: #0000ff; text-decoration: underline\">https://twitter.com/viajesubmarino)</span>\n",
              "\n",
              "Contact  \n",
              "!<span style=\"font-weight: bold\">[](</span>images/em.png<span style=\"font-weight: bold\">)</span>\n",
              "\n",
              "* <span style=\"font-weight: bold\">[</span>Home<span style=\"font-weight: bold\">](</span><span style=\"color: #0000ff; text-decoration-color: #0000ff; text-decoration: underline\">https://www.edgarbermudez.org/)</span>\n",
              "* <span style=\"font-weight: bold\">[</span>About me<span style=\"font-weight: bold\">](</span>#research<span style=\"font-weight: bold\">)</span>\n",
              "* <span style=\"font-weight: bold\">[</span>Publications<span style=\"font-weight: bold\">](</span>#publications<span style=\"font-weight: bold\">)</span>\n",
              "* <span style=\"font-weight: bold\">[</span>Projects<span style=\"font-weight: bold\">](</span>#projects<span style=\"font-weight: bold\">)</span>\n",
              "\n",
              "!<span style=\"font-weight: bold\">[](</span>images/profilesmallbw.jpg<span style=\"font-weight: bold\">)</span>  \n",
              "About me\n",
              "\n",
              "I am the Director of AI Development at <span style=\"font-weight: bold\">[</span>OraQ AI<span style=\"font-weight: bold\">](</span><span style=\"color: #0000ff; text-decoration-color: #0000ff; text-decoration: underline\">http://www.oraq.ai),</span> where I lead the strategic direction and \n",
              "development of AI-powered diagnostic,\n",
              "prognostic, and treatment recommendation systems for dentistry. With a PhD in Computer Science and Artificial \n",
              "Intelligence from the University of Sussex\n",
              "and over a decade of <span style=\"color: #808000; text-decoration-color: #808000\">...</span>\n",
              "</pre>\n"
            ],
            "text/plain": [
              "• \u001b[1m[\u001b[0mEdgar Bermudez-Contreras\u001b[1m]\u001b[0m\u001b[1m(\u001b[0m\u001b[4;94mhttps://edgarbermudez.org/#publications\u001b[0m\u001b[4;94m)\u001b[0m\n",
              "  ---\n",
              "Edgar Bermudez\n",
              "\n",
              "\u001b[1m[\u001b[0m!\u001b[1m[\u001b[0mLinkedIn icon\u001b[1m]\u001b[0m\u001b[1m(\u001b[0mimages/linkedin_logo.webp\u001b[1m)\u001b[0m\u001b[1m]\u001b[0m\u001b[1m(\u001b[0m\u001b[4;94mhttps://www.linkedin.com/in/edgarbermudezcontreras/\u001b[0m\u001b[4;94m)\u001b[0m\n",
              "\u001b[1m[\u001b[0m!\u001b[1m[\u001b[0mGoogle scholar profile\u001b[1m]\u001b[0m\u001b[1m(\u001b[0mimages/Gscholar.png\u001b[1m)\u001b[0m\u001b[1m]\u001b[0m\u001b[1m(\u001b[0m\u001b[4;94mhttps://scholar.google.ca/citations?\u001b[0m\u001b[4;94muser\u001b[0m\u001b[4;94m=\u001b[0m\u001b[4;94mP\u001b[0m\u001b[4;94m-7CnkMAAAAJ&\u001b[0m\u001b[4;94mhl\u001b[0m\u001b[4;94m=\u001b[0m\u001b[4;94men\u001b[0m\u001b[4;94m)\u001b[0m\n",
              "\u001b[1m[\u001b[0m!\u001b[1m(\u001b[0mimages/medium_logo.png\u001b[1m)\u001b[0m\u001b[1m]\u001b[0m\u001b[1m(\u001b[0m\u001b[4;94mhttps://medium.com/@viajesubmarino\u001b[0m\u001b[4;94m)\u001b[0m\n",
              "\u001b[1m[\u001b[0m!\u001b[1m(\u001b[0mimages/twitter-logo.png\u001b[1m)\u001b[0m\u001b[1m]\u001b[0m\u001b[1m(\u001b[0m\u001b[4;94mhttps://twitter.com/viajesubmarino\u001b[0m\u001b[4;94m)\u001b[0m\n",
              "\n",
              "Contact  \n",
              "!\u001b[1m[\u001b[0m\u001b[1m]\u001b[0m\u001b[1m(\u001b[0mimages/em.png\u001b[1m)\u001b[0m\n",
              "\n",
              "* \u001b[1m[\u001b[0mHome\u001b[1m]\u001b[0m\u001b[1m(\u001b[0m\u001b[4;94mhttps://www.edgarbermudez.org/\u001b[0m\u001b[4;94m)\u001b[0m\n",
              "* \u001b[1m[\u001b[0mAbout me\u001b[1m]\u001b[0m\u001b[1m(\u001b[0m#research\u001b[1m)\u001b[0m\n",
              "* \u001b[1m[\u001b[0mPublications\u001b[1m]\u001b[0m\u001b[1m(\u001b[0m#publications\u001b[1m)\u001b[0m\n",
              "* \u001b[1m[\u001b[0mProjects\u001b[1m]\u001b[0m\u001b[1m(\u001b[0m#projects\u001b[1m)\u001b[0m\n",
              "\n",
              "!\u001b[1m[\u001b[0m\u001b[1m]\u001b[0m\u001b[1m(\u001b[0mimages/profilesmallbw.jpg\u001b[1m)\u001b[0m  \n",
              "About me\n",
              "\n",
              "I am the Director of AI Development at \u001b[1m[\u001b[0mOraQ AI\u001b[1m]\u001b[0m\u001b[1m(\u001b[0m\u001b[4;94mhttp://www.oraq.ai\u001b[0m\u001b[4;94m)\u001b[0m\u001b[4;94m,\u001b[0m where I lead the strategic direction and \n",
              "development of AI-powered diagnostic,\n",
              "prognostic, and treatment recommendation systems for dentistry. With a PhD in Computer Science and Artificial \n",
              "Intelligence from the University of Sussex\n",
              "and over a decade of \u001b[33m...\u001b[0m\n"
            ]
          },
          "metadata": {},
          "output_type": "display_data"
        },
        {
          "data": {
            "text/html": [
              "<pre style=\"white-space:pre;overflow-x:auto;line-height:normal;font-family:Menlo,'DejaVu Sans Mono',consolas,'Courier New',monospace\">• <span style=\"font-weight: bold\">[</span>Edgar Bermudez-Contreras<span style=\"font-weight: bold\">](</span><span style=\"color: #0000ff; text-decoration-color: #0000ff; text-decoration: underline\">https://edgarbermudez.org/#research)</span>\n",
              "  ---\n",
              "Edgar Bermudez\n",
              "\n",
              "<span style=\"font-weight: bold\">[</span>!<span style=\"font-weight: bold\">[</span>LinkedIn icon<span style=\"font-weight: bold\">](</span>images/linkedin_logo.webp<span style=\"font-weight: bold\">)](</span><span style=\"color: #0000ff; text-decoration-color: #0000ff; text-decoration: underline\">https://www.linkedin.com/in/edgarbermudezcontreras/)</span>\n",
              "<span style=\"font-weight: bold\">[</span>!<span style=\"font-weight: bold\">[</span>Google scholar profile<span style=\"font-weight: bold\">](</span>images/Gscholar.png<span style=\"font-weight: bold\">)](</span><span style=\"color: #0000ff; text-decoration-color: #0000ff; text-decoration: underline\">https://scholar.google.ca/citations?user=P-7CnkMAAAAJ&amp;hl=en)</span>\n",
              "<span style=\"font-weight: bold\">[</span>!<span style=\"font-weight: bold\">(</span>images/medium_logo.png<span style=\"font-weight: bold\">)](</span><span style=\"color: #0000ff; text-decoration-color: #0000ff; text-decoration: underline\">https://medium.com/@viajesubmarino)</span>\n",
              "<span style=\"font-weight: bold\">[</span>!<span style=\"font-weight: bold\">(</span>images/twitter-logo.png<span style=\"font-weight: bold\">)](</span><span style=\"color: #0000ff; text-decoration-color: #0000ff; text-decoration: underline\">https://twitter.com/viajesubmarino)</span>\n",
              "\n",
              "Contact  \n",
              "!<span style=\"font-weight: bold\">[](</span>images/em.png<span style=\"font-weight: bold\">)</span>\n",
              "\n",
              "* <span style=\"font-weight: bold\">[</span>Home<span style=\"font-weight: bold\">](</span><span style=\"color: #0000ff; text-decoration-color: #0000ff; text-decoration: underline\">https://www.edgarbermudez.org/)</span>\n",
              "* <span style=\"font-weight: bold\">[</span>About me<span style=\"font-weight: bold\">](</span>#research<span style=\"font-weight: bold\">)</span>\n",
              "* <span style=\"font-weight: bold\">[</span>Publications<span style=\"font-weight: bold\">](</span>#publications<span style=\"font-weight: bold\">)</span>\n",
              "* <span style=\"font-weight: bold\">[</span>Projects<span style=\"font-weight: bold\">](</span>#projects<span style=\"font-weight: bold\">)</span>\n",
              "\n",
              "!<span style=\"font-weight: bold\">[](</span>images/profilesmallbw.jpg<span style=\"font-weight: bold\">)</span>  \n",
              "About me\n",
              "\n",
              "I am the Director of AI Development at <span style=\"font-weight: bold\">[</span>OraQ AI<span style=\"font-weight: bold\">](</span><span style=\"color: #0000ff; text-decoration-color: #0000ff; text-decoration: underline\">http://www.oraq.ai),</span> where I lead the strategic direction and \n",
              "development of AI-powered diagnostic,\n",
              "prognostic, and treatment recommendation systems for dentistry. With a PhD in Computer Science and Artificial \n",
              "Intelligence from the University of Sussex\n",
              "and over a decade of <span style=\"color: #808000; text-decoration-color: #808000\">...</span>\n",
              "</pre>\n"
            ],
            "text/plain": [
              "• \u001b[1m[\u001b[0mEdgar Bermudez-Contreras\u001b[1m]\u001b[0m\u001b[1m(\u001b[0m\u001b[4;94mhttps://edgarbermudez.org/#research\u001b[0m\u001b[4;94m)\u001b[0m\n",
              "  ---\n",
              "Edgar Bermudez\n",
              "\n",
              "\u001b[1m[\u001b[0m!\u001b[1m[\u001b[0mLinkedIn icon\u001b[1m]\u001b[0m\u001b[1m(\u001b[0mimages/linkedin_logo.webp\u001b[1m)\u001b[0m\u001b[1m]\u001b[0m\u001b[1m(\u001b[0m\u001b[4;94mhttps://www.linkedin.com/in/edgarbermudezcontreras/\u001b[0m\u001b[4;94m)\u001b[0m\n",
              "\u001b[1m[\u001b[0m!\u001b[1m[\u001b[0mGoogle scholar profile\u001b[1m]\u001b[0m\u001b[1m(\u001b[0mimages/Gscholar.png\u001b[1m)\u001b[0m\u001b[1m]\u001b[0m\u001b[1m(\u001b[0m\u001b[4;94mhttps://scholar.google.ca/citations?\u001b[0m\u001b[4;94muser\u001b[0m\u001b[4;94m=\u001b[0m\u001b[4;94mP\u001b[0m\u001b[4;94m-7CnkMAAAAJ&\u001b[0m\u001b[4;94mhl\u001b[0m\u001b[4;94m=\u001b[0m\u001b[4;94men\u001b[0m\u001b[4;94m)\u001b[0m\n",
              "\u001b[1m[\u001b[0m!\u001b[1m(\u001b[0mimages/medium_logo.png\u001b[1m)\u001b[0m\u001b[1m]\u001b[0m\u001b[1m(\u001b[0m\u001b[4;94mhttps://medium.com/@viajesubmarino\u001b[0m\u001b[4;94m)\u001b[0m\n",
              "\u001b[1m[\u001b[0m!\u001b[1m(\u001b[0mimages/twitter-logo.png\u001b[1m)\u001b[0m\u001b[1m]\u001b[0m\u001b[1m(\u001b[0m\u001b[4;94mhttps://twitter.com/viajesubmarino\u001b[0m\u001b[4;94m)\u001b[0m\n",
              "\n",
              "Contact  \n",
              "!\u001b[1m[\u001b[0m\u001b[1m]\u001b[0m\u001b[1m(\u001b[0mimages/em.png\u001b[1m)\u001b[0m\n",
              "\n",
              "* \u001b[1m[\u001b[0mHome\u001b[1m]\u001b[0m\u001b[1m(\u001b[0m\u001b[4;94mhttps://www.edgarbermudez.org/\u001b[0m\u001b[4;94m)\u001b[0m\n",
              "* \u001b[1m[\u001b[0mAbout me\u001b[1m]\u001b[0m\u001b[1m(\u001b[0m#research\u001b[1m)\u001b[0m\n",
              "* \u001b[1m[\u001b[0mPublications\u001b[1m]\u001b[0m\u001b[1m(\u001b[0m#publications\u001b[1m)\u001b[0m\n",
              "* \u001b[1m[\u001b[0mProjects\u001b[1m]\u001b[0m\u001b[1m(\u001b[0m#projects\u001b[1m)\u001b[0m\n",
              "\n",
              "!\u001b[1m[\u001b[0m\u001b[1m]\u001b[0m\u001b[1m(\u001b[0mimages/profilesmallbw.jpg\u001b[1m)\u001b[0m  \n",
              "About me\n",
              "\n",
              "I am the Director of AI Development at \u001b[1m[\u001b[0mOraQ AI\u001b[1m]\u001b[0m\u001b[1m(\u001b[0m\u001b[4;94mhttp://www.oraq.ai\u001b[0m\u001b[4;94m)\u001b[0m\u001b[4;94m,\u001b[0m where I lead the strategic direction and \n",
              "development of AI-powered diagnostic,\n",
              "prognostic, and treatment recommendation systems for dentistry. With a PhD in Computer Science and Artificial \n",
              "Intelligence from the University of Sussex\n",
              "and over a decade of \u001b[33m...\u001b[0m\n"
            ]
          },
          "metadata": {},
          "output_type": "display_data"
        },
        {
          "data": {
            "text/html": [
              "<pre style=\"white-space:pre;overflow-x:auto;line-height:normal;font-family:Menlo,'DejaVu Sans Mono',consolas,'Courier New',monospace\">• <span style=\"font-weight: bold\">[</span>Edgar Bermudez-Contreras<span style=\"font-weight: bold\">](</span><span style=\"color: #0000ff; text-decoration-color: #0000ff; text-decoration: underline\">https://edgarbermudez.org/#projects)</span>\n",
              "  ---\n",
              "ties through hackathons, mentorship programs, and\n",
              "community-building initiatives.\n",
              "\n",
              "Academic Projects\n",
              "\n",
              "Automated homecage behaviour monitoring using AI\n",
              "\n",
              "Documenting a mouseâs âreal worldâ behavior in the âsmall worldâ of a laboratory cage with continuous video\n",
              "recordings offers insights into phenotypical\n",
              "expression of mouse genotypes, development and aging, and neurological disease. Nevertheless, there are challenges \n",
              "in the design of a small world, the\n",
              "behavior selected for analysis, and the form of the analysis used.\n",
              "<span style=\"font-weight: bold\">[</span>!<span style=\"font-weight: bold\">(</span>images/small_world_analysis.png<span style=\"font-weight: bold\">)](</span><span style=\"color: #0000ff; text-decoration-color: #0000ff; text-decoration: underline\">https://www.sciencedirect.com/science/article/abs/pii/S0149763422001105)</span>\n",
              "\n",
              "Experience dependent changes in brain activity at multiple scales\n",
              "\n",
              "Changes in neuronal activity can be used by the brain to store information about the outside world. In this project\n",
              "we study experience dependent\n",
              "changes in t<span style=\"color: #808000; text-decoration-color: #808000\">...</span>\n",
              "</pre>\n"
            ],
            "text/plain": [
              "• \u001b[1m[\u001b[0mEdgar Bermudez-Contreras\u001b[1m]\u001b[0m\u001b[1m(\u001b[0m\u001b[4;94mhttps://edgarbermudez.org/#projects\u001b[0m\u001b[4;94m)\u001b[0m\n",
              "  ---\n",
              "ties through hackathons, mentorship programs, and\n",
              "community-building initiatives.\n",
              "\n",
              "Academic Projects\n",
              "\n",
              "Automated homecage behaviour monitoring using AI\n",
              "\n",
              "Documenting a mouseâs âreal worldâ behavior in the âsmall worldâ of a laboratory cage with continuous video\n",
              "recordings offers insights into phenotypical\n",
              "expression of mouse genotypes, development and aging, and neurological disease. Nevertheless, there are challenges \n",
              "in the design of a small world, the\n",
              "behavior selected for analysis, and the form of the analysis used.\n",
              "\u001b[1m[\u001b[0m!\u001b[1m(\u001b[0mimages/small_world_analysis.png\u001b[1m)\u001b[0m\u001b[1m]\u001b[0m\u001b[1m(\u001b[0m\u001b[4;94mhttps://www.sciencedirect.com/science/article/abs/pii/S0149763422001105\u001b[0m\u001b[4;94m)\u001b[0m\n",
              "\n",
              "Experience dependent changes in brain activity at multiple scales\n",
              "\n",
              "Changes in neuronal activity can be used by the brain to store information about the outside world. In this project\n",
              "we study experience dependent\n",
              "changes in t\u001b[33m...\u001b[0m\n"
            ]
          },
          "metadata": {},
          "output_type": "display_data"
        },
        {
          "data": {
            "text/html": [
              "<pre style=\"white-space:pre;overflow-x:auto;line-height:normal;font-family:Menlo,'DejaVu Sans Mono',consolas,'Courier New',monospace\">• <span style=\"font-weight: bold\">[</span>Edgar Bermudez-Contreras<span style=\"font-weight: bold\">](</span><span style=\"color: #0000ff; text-decoration-color: #0000ff; text-decoration: underline\">https://www.edgarbermudez.org/#publications)</span>\n",
              "  ---\n",
              "s can improve the performance of a simulated agent that learns to navigate in a virtual world when similar sensory \n",
              "information is found in the future.\n",
              "\n",
              "<span style=\"font-weight: bold\">[</span>!<span style=\"font-weight: bold\">(</span>images/ego-allo-info.png<span style=\"font-weight: bold\">)</span>\n",
              "!<span style=\"font-weight: bold\">(</span>images/ego-allo-info_env.png<span style=\"font-weight: bold\">)](</span><span style=\"color: #0000ff; text-decoration-color: #0000ff; text-decoration: underline\">http://ieeexplore.ieee.org/document/7902152/)</span>\n",
              "\n",
              "This project uses reinforcement learning to solve a spatial navigation task in a simulated world where an agent \n",
              "exploits sensory-based predictions about its spatial location. A similar strategy can be used not only in spatial \n",
              "tasks, but also in situations where local information can be used to predict consequenses in a more global domain. \n",
              "<span style=\"font-weight: bold\">[](</span><span style=\"color: #0000ff; text-decoration-color: #0000ff; text-decoration: underline\">http://ieeexplore.ieee.org/document/7902152/)</span>\n",
              "\n",
              "Automated homecage behaviour monitoring\n",
              "\n",
              "I am interested in developing tools to monitor behaviour and brain activity in the homecage in an automated manner.\n",
              "Wi<span style=\"color: #808000; text-decoration-color: #808000\">...</span>\n",
              "</pre>\n"
            ],
            "text/plain": [
              "• \u001b[1m[\u001b[0mEdgar Bermudez-Contreras\u001b[1m]\u001b[0m\u001b[1m(\u001b[0m\u001b[4;94mhttps://www.edgarbermudez.org/#publications\u001b[0m\u001b[4;94m)\u001b[0m\n",
              "  ---\n",
              "s can improve the performance of a simulated agent that learns to navigate in a virtual world when similar sensory \n",
              "information is found in the future.\n",
              "\n",
              "\u001b[1m[\u001b[0m!\u001b[1m(\u001b[0mimages/ego-allo-info.png\u001b[1m)\u001b[0m\n",
              "!\u001b[1m(\u001b[0mimages/ego-allo-info_env.png\u001b[1m)\u001b[0m\u001b[1m]\u001b[0m\u001b[1m(\u001b[0m\u001b[4;94mhttp://ieeexplore.ieee.org/document/7902152/\u001b[0m\u001b[4;94m)\u001b[0m\n",
              "\n",
              "This project uses reinforcement learning to solve a spatial navigation task in a simulated world where an agent \n",
              "exploits sensory-based predictions about its spatial location. A similar strategy can be used not only in spatial \n",
              "tasks, but also in situations where local information can be used to predict consequenses in a more global domain. \n",
              "\u001b[1m[\u001b[0m\u001b[1m]\u001b[0m\u001b[1m(\u001b[0m\u001b[4;94mhttp://ieeexplore.ieee.org/document/7902152/\u001b[0m\u001b[4;94m)\u001b[0m\n",
              "\n",
              "Automated homecage behaviour monitoring\n",
              "\n",
              "I am interested in developing tools to monitor behaviour and brain activity in the homecage in an automated manner.\n",
              "Wi\u001b[33m...\u001b[0m\n"
            ]
          },
          "metadata": {},
          "output_type": "display_data"
        }
      ],
      "source": [
        "# === 4) Search helpers: plain, MMR, and re-ranking ===\n",
        "# Optional cross-encoder reranker (comment out if you want speed only)\n",
        "reranker = CrossEncoder(\"cross-encoder/ms-marco-MiniLM-L-6-v2\")\n",
        "\n",
        "def faiss_search(query, k=20):\n",
        "    q = embed_model.encode([query], normalize_embeddings=True).astype(\"float32\")\n",
        "    D, I = index.search(q, k)\n",
        "    return [(int(i), float(s)) for i, s in zip(I[0], D[0])]\n",
        "\n",
        "def mmr(query, candidates, lambda_mult=0.7, final_k=5):\n",
        "    # candidates: list of (idx, sim)\n",
        "    # Diversify by penalizing similarity to already chosen items\n",
        "    chosen, rest = [], candidates.copy()\n",
        "    q_vec = embed_model.encode([query], normalize_embeddings=True).astype(\"float32\")[0]\n",
        "    doc_vecs = embs[[i for i,_ in candidates]]\n",
        "\n",
        "    while rest and len(chosen) < final_k:\n",
        "        if not chosen:\n",
        "            chosen.append(rest.pop(0))\n",
        "            continue\n",
        "        chosen_vecs = embs[[i for i,_ in chosen]]\n",
        "        # compute redundancy penalty\n",
        "        sims_to_chosen = np.dot(doc_vecs, chosen_vecs.T)  # cosine (normalized)\n",
        "        max_red = sims_to_chosen.max(axis=1)\n",
        "        # MMR score: lambda*relevance - (1-lambda)*redundancy\n",
        "        rel = np.array([s for _,s in rest])\n",
        "        mmr_scores = lambda_mult*rel - (1-lambda_mult)*max_red[:len(rest)]\n",
        "        pick = int(np.argmax(mmr_scores))\n",
        "        chosen.append(rest.pop(pick))\n",
        "    return chosen[:final_k]\n",
        "\n",
        "def search(query, k=8, rerank_top=20, diversify=True):\n",
        "    cands = faiss_search(query, k=rerank_top)\n",
        "    if diversify:\n",
        "        cands = mmr(query, cands, lambda_mult=0.7, final_k=k)\n",
        "    idxs = [i for i,_ in cands]\n",
        "    pairs = [(query, records[i][\"chunk_text\"]) for i in idxs]\n",
        "    scores = reranker.predict(pairs)  # higher is better\n",
        "    reranked = [x for _,x in sorted(zip(scores, idxs), reverse=True)]\n",
        "    return [records[i] for i in reranked[:k]]\n",
        "\n",
        "def pretty(hit):\n",
        "    return f\"• [{hit['title']}]({hit['url']})\\n  ---\\n{hit['chunk_text'][:900]}...\"\n",
        "\n",
        "q = \"What AI services/products does the author offer and recent projects?\"\n",
        "hits = search(q)\n",
        "rprint(f\"[bold yellow]Top hits for:[/bold yellow] {q}\")\n",
        "for h in hits: rprint(pretty(h))\n"
      ]
    },
    {
      "cell_type": "markdown",
      "metadata": {
        "id": "pJp11KhvyxDJ"
      },
      "source": [
        "## Simple interface: FastAPI (optional)\n",
        "\n",
        "We can use a simple FastAPI interface to display the results for the demo."
      ]
    },
    {
      "cell_type": "code",
      "execution_count": null,
      "metadata": {
        "colab": {
          "base_uri": "https://localhost:8080/"
        },
        "id": "t6JtLnPSvVtv",
        "outputId": "9184c77e-678e-4bfe-b44c-46374fd64f2a"
      },
      "outputs": [
        {
          "name": "stderr",
          "output_type": "stream",
          "text": [
            "INFO:     Started server process [435]\n",
            "INFO:     Waiting for application startup.\n",
            "INFO:     Application startup complete.\n",
            "INFO:     Uvicorn running on http://0.0.0.0:8000 (Press CTRL+C to quit)\n",
            "INFO:     Shutting down\n",
            "INFO:     Waiting for application shutdown.\n",
            "INFO:     Application shutdown complete.\n",
            "INFO:     Finished server process [435]\n"
          ]
        }
      ],
      "source": [
        "# === 5) Minimal API (FastAPI) to serve retrieval from Colab ===\n",
        "import nest_asyncio, uvicorn\n",
        "from fastapi import FastAPI\n",
        "nest_asyncio.apply()\n",
        "\n",
        "app = FastAPI(title=\"LLMify-FAISS API\")\n",
        "\n",
        "@app.get(\"/search\")\n",
        "def api_search(q: str, k: int = 5):\n",
        "    res = search(q, k=k)\n",
        "    return [{\"title\": r[\"title\"], \"url\": r[\"url\"], \"snippet\": r[\"chunk_text\"][:600]} for r in res]\n",
        "\n",
        "# To run the API in Colab, uncomment:\n",
        "uvicorn.run(app, host=\"0.0.0.0\", port=8000)\n"
      ]
    },
    {
      "cell_type": "markdown",
      "metadata": {
        "id": "5iU8wKATzQ2b"
      },
      "source": [
        "## Improvements\n",
        "\n"
      ]
    },
    {
      "cell_type": "code",
      "execution_count": null,
      "metadata": {
        "id": "L8hkNbabviaj"
      },
      "outputs": [],
      "source": [
        "# === 6) Incremental updates (recrawl & merge without rebuilding from scratch) ===\n",
        "# If you re-run later, you can:\n",
        "#  - recrawl\n",
        "#  - extract new pages or detect changed pages\n",
        "#  - embed only new/changed chunks\n",
        "#  - add vectors to FAISS and append to metadata\n",
        "\n",
        "def load_index_and_metadata():\n",
        "    idx = faiss.read_index(os.path.join(SAVE_DIR, \"index.faiss\"))\n",
        "    with open(os.path.join(SAVE_DIR, \"metadata.json\")) as f:\n",
        "        meta = json.load(f)\n",
        "    return idx, meta\n",
        "\n",
        "def upsert_pages(new_pages):\n",
        "    global index, records, embs\n",
        "    # Build a quick URL->max_chunk map to detect existing coverage\n",
        "    url_to_chunks = {}\n",
        "    for r in records:\n",
        "        url_to_chunks.setdefault(r[\"url\"], 0)\n",
        "        url_to_chunks[r[\"url\"]] = max(url_to_chunks[r[\"url\"]], r[\"chunk_id\"])\n",
        "\n",
        "    new_records = []\n",
        "    for url, html in tqdm(new_pages, desc=\"Incremental extract\"):\n",
        "        main_html = extract_main_html(html)\n",
        "        title, published_at = extract_title_date(html)\n",
        "        md = html_to_markdown(main_html)\n",
        "        if len(md) < 200: continue\n",
        "        chunks = chunk_markdown(md)\n",
        "        for i, ch in enumerate(chunks):\n",
        "            rec = {\"doc_id\": page_id(url), \"url\": url, \"title\": title or url,\n",
        "                   \"published_at\": published_at, \"chunk_id\": i, \"chunk_text\": ch}\n",
        "            # naive duplicate check by hash of text\n",
        "            rec_hash = hashlib.md5(ch.encode()).hexdigest()\n",
        "            rec[\"hash\"] = rec_hash\n",
        "            new_records.append(rec)\n",
        "\n",
        "    # De-dup by (url, chunk_id, hash)\n",
        "    existing_hashes = set(hashlib.md5(r[\"chunk_text\"].encode()).hexdigest() for r in records)\n",
        "    add_records = [r for r in new_records if hashlib.md5(r[\"chunk_text\"].encode()).hexdigest() not in existing_hashes]\n",
        "    if not add_records:\n",
        "        rprint(\"[bold green]No new chunks to add.[/bold green]\")\n",
        "        return\n",
        "\n",
        "    add_texts = [r[\"chunk_text\"] for r in add_records]\n",
        "    add_embs = SentenceTransformer(\"sentence-transformers/all-MiniLM-L6-v2\").encode(\n",
        "        add_texts, batch_size=64, show_progress_bar=True, normalize_embeddings=True\n",
        "    ).astype(\"float32\")\n",
        "    index.add(add_embs)\n",
        "\n",
        "    records.extend(add_records)\n",
        "    embs = np.concatenate([embs, add_embs], axis=0)\n",
        "\n",
        "    faiss.write_index(index, os.path.join(SAVE_DIR, \"index.faiss\"))\n",
        "    with open(os.path.join(SAVE_DIR, \"metadata.json\"), \"w\") as f: json.dump(records, f)\n",
        "    rprint(f\"[bold magenta]Added {len(add_records)} new chunks[/bold magenta]\")\n",
        "\n",
        "# Example usage later:\n",
        "# new_pages = crawl(START_URL, max_pages=50, depth=2)\n",
        "# upsert_pages(new_pages)\n"
      ]
    }
  ],
  "metadata": {
    "colab": {
      "authorship_tag": "ABX9TyPUZXkDQLayHWL4a5eEXMeP",
      "include_colab_link": true,
      "provenance": [],
      "toc_visible": true
    },
    "kernelspec": {
      "display_name": ".venv",
      "language": "python",
      "name": "python3"
    },
    "language_info": {
      "name": "python",
      "version": "3.10.18"
    }
  },
  "nbformat": 4,
  "nbformat_minor": 0
}
