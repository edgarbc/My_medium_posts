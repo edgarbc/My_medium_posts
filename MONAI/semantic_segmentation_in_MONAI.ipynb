{
  "nbformat": 4,
  "nbformat_minor": 0,
  "metadata": {
    "colab": {
      "provenance": [],
      "mount_file_id": "1_CA3x2EVmcccLGYE_23KKX1GHmZ-BNUv",
      "authorship_tag": "ABX9TyOg6W0OHHHg85QBLw2Svj6Z",
      "include_colab_link": true
    },
    "kernelspec": {
      "name": "python3",
      "display_name": "Python 3"
    },
    "language_info": {
      "name": "python"
    }
  },
  "cells": [
    {
      "cell_type": "markdown",
      "metadata": {
        "id": "view-in-github",
        "colab_type": "text"
      },
      "source": [
        "<a href=\"https://colab.research.google.com/github/edgarbc/My_medium_posts/blob/main/semantic_segmentation_in_MONAI.ipynb\" target=\"_parent\"><img src=\"https://colab.research.google.com/assets/colab-badge.svg\" alt=\"Open In Colab\"/></a>"
      ]
    },
    {
      "cell_type": "code",
      "execution_count": 1,
      "metadata": {
        "id": "rRW7gImOWEIh"
      },
      "outputs": [],
      "source": [
        "# imports\n",
        "from PIL import Image\n",
        "import matplotlib.pyplot as plt\n"
      ]
    },
    {
      "cell_type": "code",
      "source": [
        "!ls drive/MyDrive/Colab\\ Notebooks/xray_data"
      ],
      "metadata": {
        "colab": {
          "base_uri": "https://localhost:8080/"
        },
        "id": "il0eK8AvZwM1",
        "outputId": "ba90cdc0-e620-46e1-c642-433459571f96"
      },
      "execution_count": 7,
      "outputs": [
        {
          "output_type": "stream",
          "name": "stdout",
          "text": [
            "100.png  10.png   13.png  22.png  31.png  40.png  4.png   59.png  68.png  77.png  86.png  95.png\n",
            "101.png  110.png  14.png  23.png  32.png  41.png  50.png  5.png   69.png  78.png  87.png  96.png\n",
            "102.png  111.png  15.png  24.png  33.png  42.png  51.png  60.png  6.png   79.png  88.png  97.png\n",
            "103.png  112.png  16.png  25.png  34.png  43.png  52.png  61.png  70.png  7.png   89.png  98.png\n",
            "104.png  113.png  17.png  26.png  35.png  44.png  53.png  62.png  71.png  80.png  8.png   99.png\n",
            "105.png  114.png  18.png  27.png  36.png  45.png  54.png  63.png  72.png  81.png  90.png  9.png\n",
            "106.png  115.png  19.png  28.png  37.png  46.png  55.png  64.png  73.png  82.png  91.png  preproc\n",
            "107.png  116.png  1.png   29.png  38.png  47.png  56.png  65.png  74.png  83.png  92.png\n",
            "108.png  11.png   20.png  2.png   39.png  48.png  57.png  66.png  75.png  84.png  93.png\n",
            "109.png  12.png   21.png  30.png  3.png   49.png  58.png  67.png  76.png  85.png  94.png\n"
          ]
        }
      ]
    },
    {
      "cell_type": "code",
      "source": [
        "!pwd\n"
      ],
      "metadata": {
        "colab": {
          "base_uri": "https://localhost:8080/"
        },
        "id": "DFDkr_Eybq3l",
        "outputId": "256f0d68-1461-4927-f041-60c9b3538ef6"
      },
      "execution_count": 13,
      "outputs": [
        {
          "output_type": "stream",
          "name": "stdout",
          "text": [
            "/content\n"
          ]
        }
      ]
    },
    {
      "cell_type": "code",
      "source": [
        "# definitions and parameters\n",
        "datadir = '/content/drive/MyDrive/Colab Notebooks/xray_data/'\n",
        "img_fname = '100.png'\n",
        "mask_fname = '100.png'\n",
        "pred_mask_fname = '100.png'"
      ],
      "metadata": {
        "id": "raslWWyBYFv2"
      },
      "execution_count": 14,
      "outputs": []
    },
    {
      "cell_type": "code",
      "source": [
        "# load images\n",
        "img = Image.open(datadir+img_fname)\n",
        "\n",
        "mask = Image.open(datadir+ mask_fname)\n",
        "\n",
        "pred_mask = Image.open(datadir + pred_mask_fname)\n"
      ],
      "metadata": {
        "id": "irb_2nX-WiFF"
      },
      "execution_count": 15,
      "outputs": []
    },
    {
      "cell_type": "code",
      "source": [
        "# display images\n",
        "fig = plt.figure(figsize=(10,10))\n",
        "\n",
        "fig, ax = plt.subplots(1,3)\n",
        "\n",
        "ax[0].imshow(img)\n",
        "ax[1].imshow(mask)\n",
        "ax[2].imshow(pred_mask)\n"
      ],
      "metadata": {
        "colab": {
          "base_uri": "https://localhost:8080/",
          "height": 155
        },
        "id": "-f9eUKwXYq_z",
        "outputId": "bd44e9b8-7313-4aad-f7d9-6eec7050e6ea"
      },
      "execution_count": 20,
      "outputs": [
        {
          "output_type": "execute_result",
          "data": {
            "text/plain": [
              "<matplotlib.image.AxesImage at 0x7f95cb7d2e90>"
            ]
          },
          "metadata": {},
          "execution_count": 20
        },
        {
          "output_type": "display_data",
          "data": {
            "text/plain": [
              "<Figure size 1000x1000 with 0 Axes>"
            ]
          },
          "metadata": {}
        },
        {
          "output_type": "display_data",
          "data": {
            "text/plain": [
              "<Figure size 640x480 with 3 Axes>"
            ],
            "image/png": "[encoded data removed]"
          },
          "metadata": {}
        }
      ]
    },
    {
      "cell_type": "code",
      "source": [
        "def calculate_iou(mask_true, mask_pred):\n",
        "  '''\n",
        "  Returns the intersection over union (or Jaccard) index to evaluate the\n",
        "  matching of the two masks\n",
        "\n",
        "  Inputs:\n",
        "  mask_true: np.array\n",
        "  mask_pred: np.array\n",
        "\n",
        "  Returns:\n",
        "  iou_index: float\n",
        "  '''\n",
        "  # calculates the area of the intersection of the two masks\n",
        "  intersection = np.sum(mask_pred[mask_true==1])\n",
        "\n",
        "  # calculate the area of the union of the masks\n",
        "  union = np.sum(mask_true) + np.sum(mask_pred)\n",
        "\n",
        "  return (intersection / union)"
      ],
      "metadata": {
        "id": "qUUyPpKmuFP9"
      },
      "execution_count": null,
      "outputs": []
    }
  ]
}